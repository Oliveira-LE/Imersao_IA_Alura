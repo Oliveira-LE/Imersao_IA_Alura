{
  "nbformat": 4,
  "nbformat_minor": 0,
  "metadata": {
    "colab": {
      "provenance": [],
      "authorship_tag": "ABX9TyNSfkKWsTMQfKlQSRSBljPX",
      "include_colab_link": true
    },
    "kernelspec": {
      "name": "python3",
      "display_name": "Python 3"
    },
    "language_info": {
      "name": "python"
    }
  },
  "cells": [
    {
      "cell_type": "markdown",
      "metadata": {
        "id": "view-in-github",
        "colab_type": "text"
      },
      "source": [
        "<a href=\"https://colab.research.google.com/github/Oliveira-LE/Imersao_IA_Alura/blob/main/IMERSAO_IA_O_LE.ipynb\" target=\"_parent\"><img src=\"https://colab.research.google.com/assets/colab-badge.svg\" alt=\"Open In Colab\"/></a>"
      ]
    },
    {
      "cell_type": "markdown",
      "source": [
        "Projeto de finalização da Imersão Inteligência Artificial da Alura e do Google."
      ],
      "metadata": {
        "id": "KozbBpbVl-39"
      }
    },
    {
      "cell_type": "code",
      "source": [
        "#Instalação do SDK para o Gemini\n",
        "!pip install -q -U google-generativeai"
      ],
      "metadata": {
        "id": "AZUg2gIxIpks"
      },
      "execution_count": null,
      "outputs": []
    },
    {
      "cell_type": "code",
      "source": [
        "#Importando bibliotecas\n",
        "import google.generativeai as genai\n",
        "import textwrap\n",
        "from IPython.display import display\n",
        "from IPython.display import Markdown"
      ],
      "metadata": {
        "id": "ZMv5n-R5It-P"
      },
      "execution_count": null,
      "outputs": []
    },
    {
      "cell_type": "code",
      "source": [
        "#API KEY\n",
        "from google.colab import userdata\n",
        "api_key = userdata.get(\"secret_key\")\n",
        "genai.configure(api_key=api_key)"
      ],
      "metadata": {
        "id": "Tjs0gU17JFRr"
      },
      "execution_count": null,
      "outputs": []
    },
    {
      "cell_type": "code",
      "source": [
        "#Iniciando o Gemini\n",
        "model = genai.GenerativeModel('gemini-1.0-pro')"
      ],
      "metadata": {
        "id": "Drdbl_bnJWyT"
      },
      "execution_count": null,
      "outputs": []
    },
    {
      "cell_type": "code",
      "source": [
        "#Informações do Plano\n",
        "objetivo = input(\"Objetivo do Plano: \")\n",
        "etapa = input(\"Informe qual a etapa você irá desenvolver: \")\n",
        "revisao = input(\"Informe se foi feita uma revisão do plano: \")\n"
      ],
      "metadata": {
        "id": "ug_pKbcmJmVm",
        "colab": {
          "base_uri": "https://localhost:8080/"
        },
        "outputId": "6d4f6c7b-1621-48f2-b349-491c9741ddc7"
      },
      "execution_count": null,
      "outputs": [
        {
          "name": "stdout",
          "output_type": "stream",
          "text": [
            "Objetivo do Plano: Elaborar um plano de preparação para desastres individual\n",
            "Informe qual a etapa você irá desenvolver: Irei identificar os riscos e implementar o plano de ação\n",
            "Informe se foi feita uma revisão do plano: Revisar este plano periodicamente, pelo menos uma vez por ano, ou após qualquer mudança significativa em sua residência e família ou situação de risco, atualizar o kit de emergência com itens novos ou vencidos, Conversar com sua família sobre o plano de preparação para desastres, certificar-se de que todos estejam cientes de suas responsabilidades\n"
          ]
        }
      ]
    },
    {
      "cell_type": "code",
      "source": [
        "Objetivo do Plano: Elaborar um plano de preparação para desastres individual.\n",
        "Informe qual a etapa você irá desenvolver: Irei identificar os riscos e implementar o plano de ação.\n",
        "Informe se foi feita uma revisão do plano: Revisar este plano periodicamente, pelo menos uma vez por ano, ou após qualquer mudança significativa em sua residência e família ou situação de risco, atualizar o kit de emergência com itens novos ou vencidos, Conversar com sua família sobre o plano de preparação para desastres, certificar-se de que todos estejam cientes de suas responsabilidades."
      ],
      "metadata": {
        "id": "CcaYnGjmJwtq"
      },
      "execution_count": null,
      "outputs": []
    },
    {
      "cell_type": "code",
      "source": [
        "#Criação do modelo e retorno\n",
        "response = model.generate_content(f\"Baseado no {objetivo}, {etapa} e {revisao} crie um plano de preparação para desastres individual, contendo as ações que levam em consideração os riscos naturais de sua região e a vulnerabilidade de sua residência, avaliando a comunicação, kit de emergência, plano de evacuação e medidas de autoproteção\")"
      ],
      "metadata": {
        "id": "UlwArElWJ3DS"
      },
      "execution_count": null,
      "outputs": []
    },
    {
      "cell_type": "code",
      "source": [
        "#Retorno\n",
        "def to_markdown(text):\n",
        "  text = text.replace('•', '  *')\n",
        "  return Markdown(textwrap.indent(text, '> ', predicate=lambda _: True))"
      ],
      "metadata": {
        "id": "0pW1aUkEKBFW"
      },
      "execution_count": null,
      "outputs": []
    },
    {
      "cell_type": "code",
      "source": [
        "#Exibição do Plano Macro do Projeto\n",
        "display(to_markdown(response.text))"
      ],
      "metadata": {
        "id": "pSao91nUKKnb",
        "colab": {
          "base_uri": "https://localhost:8080/",
          "height": 609
        },
        "outputId": "f561c1ea-95d9-4837-d587-8ffab3d9fee4"
      },
      "execution_count": null,
      "outputs": [
        {
          "output_type": "display_data",
          "data": {
            "text/plain": [
              "<IPython.core.display.Markdown object>"
            ],
            "text/markdown": "> **Plano de Preparação para Desastres Individual**\n> \n> **Avaliação de Riscos**\n> \n> * **Identificar os riscos naturais da região:** Terremotos, inundações, incêndios florestais, furacões, etc.\n> * **Avaliar a vulnerabilidade da residência:** Localização, construção, acesso a serviços essenciais.\n> \n> **Plano de Ação**\n> \n> **Comunicação:**\n> * Estabelecer um ponto de encontro externo para a família em caso de separação.\n> * Identificar vários métodos de comunicação (telefone, rádio, mensagens de texto).\n> * Manter uma lista de contatos de emergência (família, amigos, vizinhos).\n> \n> **Kit de Emergência:**\n> * Incluir água, alimentos não perecíveis, medicamentos essenciais, primeiros socorros, ferramentas básicas, documentos importantes, dinheiro e itens de higiene.\n> * Manter o kit em local acessível e fácil de transportar.\n> * Atualizar e inspecionar o kit regularmente.\n> \n> **Plano de Evacuação:**\n> * Determinar rotas de evacuação seguras a partir da residência.\n> * Identificar pontos de refúgio próximos.\n> * Praticar rotas de evacuação com a família.\n> \n> **Medidas de Autoproteção:**\n> \n> * Durante terremotos: buscar abrigo sob mesas ou estruturas sólidas, ficar longe de janelas e objetos suspensos.\n> * Durante inundações: mover-se para terrenos mais altos, evitar águas contaminadas e seguir instruções das autoridades.\n> * Durante incêndios florestais: evacuar conforme orientação e seguir as instruções de prevenção de incêndios.\n> * Durante furacões: proteger janelas e portas, estocar alimentos e água, e seguir as ordens de evacuação.\n> \n> **Revisão e Atualização**\n> \n> * Revisar o plano periodicamente (pelo menos uma vez por ano).\n> * Fazer ajustes conforme mudanças em residência, família ou situação de risco.\n> * Atualizar o kit de emergência com itens novos ou vencidos.\n> * Conversar com a família sobre o plano e garantir que todos estejam cientes de suas responsabilidades."
          },
          "metadata": {}
        }
      ]
    },
    {
      "cell_type": "markdown",
      "source": [
        "Plano de Preparação para Desastres Individual\n",
        "\n",
        "Introdução.\n",
        "\n",
        "Auxiliar a população a se proteger de catástrofes naturais relacionadas às mudanças climáticas exige um esforço conjunto e multifacetado. Diversas medidas podem ser tomadas em diferentes níveis, desde ações governamentais e comunitárias até iniciativas individuais.\n",
        "\n",
        "Objetivo:\n",
        "\n",
        "Este plano tem como objetivo auxiliar na sua preparação para lidar com situações de desastres naturais, como furacões, inundações, terremotos e incêndios florestais. A sua implementação visa aumentar suas chances de sobrevivência e minimizar os impactos do desastre em sua vida.\n",
        "\n",
        "Etapas:\n",
        "\n",
        "1. Identificação de Riscos:\n",
        "\n",
        "    Riscos naturais da sua região:\n",
        "        Quais são os tipos de desastres naturais mais comuns na sua região? (ex: inundações, furacões, terremotos, etc.)\n",
        "        Qual a probabilidade de ocorrência de cada tipo de desastre?\n",
        "        Quais áreas da sua região são mais propensas a serem afetadas por desastres?\n",
        "    Vulnerabilidades da sua residência:\n",
        "        Sua casa está localizada em área de risco? (ex: encostas, margens de rios, etc.)\n",
        "        A estrutura da sua casa é segura?\n",
        "        Você possui algum sistema de alerta precoce para desastres? (ex: sirenes, alarmes meteorológicos, etc.)\n",
        "\n",
        "2. Plano de Ação:\n",
        "\n",
        "    Comunicação:\n",
        "        Defina um ponto de encontro para sua família caso se separem durante o desastre.\n",
        "        Combine um método de comunicação alternativo caso as linhas telefônicas estejam indisponíveis (ex: rádio AM/FM, mensageiros, etc.).\n",
        "        Informe a familiares e amigos sobre seu plano de preparação para desastres.\n",
        "    Kit de Emergência:\n",
        "        Prepare um kit de emergência com itens essenciais para se manter durante pelo menos 72 horas, incluindo:\n",
        "            Água potável (mínimo de 2 litros por pessoa por dia)\n",
        "            Alimentos não perecíveis (ex: enlatados, grãos, barras de cereal)\n",
        "            Medicamentos de uso contínuo\n",
        "            Kit de primeiros socorros\n",
        "            Documentos importantes (cópias do RG, CPF, carteira de saúde, etc.)\n",
        "            Dinheiro em espécie\n",
        "            Lanternas\n",
        "            Rádio a pilha\n",
        "            Baterias extras\n",
        "            Carregadores portáteis\n",
        "            Abridor de latas\n",
        "            Canivete\n",
        "            Fósforos ou isqueiro\n",
        "            Saco de lixo\n",
        "            Higiene pessoal (escova de dente, creme de dente, sabonete, etc.)\n",
        "            Roupas para troca\n",
        "            Cobertor\n",
        "        Armazene o kit em local de fácil acesso e mantenha-o atualizado periodicamente.\n",
        "    Plano de Evacuação:\n",
        "        Identifique rotas de fuga alternativas da sua casa em caso de inundações, incêndios ou outros perigos.\n",
        "        Pratique o plano de evacuação com sua família regularmente.\n",
        "        Combine um local de encontro seguro fora da área de risco.\n",
        "    Medidas de Autoproteção:\n",
        "        Aprenda sobre os procedimentos de segurança para diferentes tipos de desastres.\n",
        "        Mantenha-se informado sobre as condições climáticas e alertas de desastres.\n",
        "        Siga as instruções das autoridades durante um desastre.\n",
        "\n",
        "3. Revisão e Atualização:\n",
        "\n",
        "    Revise este plano periodicamente, pelo menos uma vez por ano, ou após qualquer mudança significativa em sua residência, família ou situação de risco.\n",
        "    Atualize o kit de emergência com itens novos ou vencidos.\n",
        "    Converse com sua família sobre o plano de preparação para desastres e certifique-se de que todos estejam cientes de suas responsabilidades."
      ],
      "metadata": {
        "id": "1TrxXex6FMqp"
      }
    },
    {
      "cell_type": "code",
      "source": [
        "# Funções para questões sobre alterações no resultado do Plano de Preparação\n",
        "def detalhes_etapa(objetivo, etapa):\n",
        "    detalhes_extra_etapa = input(\"Informar ou alterar a etapa do plano? (Sim/Não): \")\n",
        "\n",
        "    if detalhes_extra_etapa.lower() == \"sim\":\n",
        "        mais_detalhes_etapa = input(\"Forneça mais detalhes sobre a etapa ou alteração no plano: \")\n",
        "        etapa_atualizada = etapa + \" \" + mais_detalhes_etapa\n",
        "    else:\n",
        "        etapa_atualizada = etapa\n",
        "\n",
        "    return etapa_atualizada\n",
        "\n",
        "def questao_sobre_revisao_plano():\n",
        "    revisao_plano = input(\"Pretende alterar alqualquer coisa na revisao? (Sim/Não): \")\n",
        "\n",
        "    if revisao_plano.lower() == \"sim\":\n",
        "        mais_detalhes_revisao = input(\"Prover mais detalhes sobre alterações na revisão apresentada: \")\n",
        "        revisao_plano = revisao + \" \" + mais_detalhes_revisao\n",
        "    else:\n",
        "        revisao_plano = revisao\n",
        "\n",
        "    return revisao_plano"
      ],
      "metadata": {
        "id": "PzvBwg27FNYf"
      },
      "execution_count": null,
      "outputs": []
    },
    {
      "cell_type": "code",
      "source": [
        "# Outras perguntas e melhoria do plano de preparação\n",
        "etapa_atualizada = detalhes_etapa(objetivo, etapa)\n",
        "revisao_plano = questao_sobre_revisao_plano()\n"
      ],
      "metadata": {
        "id": "rCDIOoadKZ30",
        "colab": {
          "base_uri": "https://localhost:8080/"
        },
        "outputId": "9548dc7b-4f6e-4257-af08-213ce57a9ca1"
      },
      "execution_count": null,
      "outputs": [
        {
          "name": "stdout",
          "output_type": "stream",
          "text": [
            "Informar ou alterar a etapa do plano? (Sim/Não): Não\n",
            "Pretende alterar alqualquer coisa na revisao? (Sim/Não): Não\n"
          ]
        }
      ]
    },
    {
      "cell_type": "code",
      "source": [
        "# Plano de preparação atualizado com mais informações\n",
        "plano_de_preparacao_atualizado = model.generate_content(f\"Baseado no {objetivo}, {etapa_atualizada} e considerando uma {revisao_plano}, crie um plano de preparação para desastres individual atualizado, contendo as principais ações que levam em consideração os riscos naturais de sua região e a vulnerabilidade de sua residência, avaliando a comunicação, kit de emergência, plano de evacuação e medidas de autoproteção\")\n"
      ],
      "metadata": {
        "id": "Tzypr7E2KcqS"
      },
      "execution_count": null,
      "outputs": []
    },
    {
      "cell_type": "code",
      "source": [
        "# Formatação e exibição do plano de preparação para desastres individual atualizado\n",
        "plano_de_preparacao_atualizado_formatado = to_markdown(plano_de_preparacao_atualizado.text)\n",
        "display(plano_de_preparacao_atualizado_formatado)"
      ],
      "metadata": {
        "id": "2AjtYjoAKhJK",
        "colab": {
          "base_uri": "https://localhost:8080/",
          "height": 540
        },
        "outputId": "90310009-fc84-4776-891f-89d8c63d6d76"
      },
      "execution_count": null,
      "outputs": [
        {
          "output_type": "display_data",
          "data": {
            "text/plain": [
              "<IPython.core.display.Markdown object>"
            ],
            "text/markdown": "> **Plano de Preparação para Desastres Individual**\n> \n> **1. Identificação de Riscos**\n> \n> * Analise os riscos naturais em sua região (e.g., terremotos, furacões, inundações)\n> * Avalie a vulnerabilidade de sua residência a esses riscos\n> * Considere riscos específicos para sua família (e.g., membros com deficiência, alergias)\n> \n> **2. Plano de Ação**\n> \n> **Comunicação:**\n> \n> * Estabeleça um ponto de encontro fora de sua casa para se reunir com sua família\n> * Identifique formas alternativas de comunicação (e.g., rádio, e-mail, mensagens de texto)\n> \n> **Kit de Emergência:**\n> \n> * Monte um kit de emergência com itens essenciais (e.g., água, comida, medicamentos, lanterna)\n> * Revise e atualize o kit periodicamente, substituindo itens vencidos ou esgotados\n> \n> **Plano de Evacuação:**\n> \n> * Determine rotas de evacuação seguras\n> * Pratique simulacros de evacuação com sua família\n> * Identifique locais de abrigo seguros e pontos de assistência médica\n> \n> **Medidas de Autoproteção:**\n> \n> * Conheça os sinais de alerta e procedimentos para cada tipo de desastre\n> * Aprenda técnicas básicas de primeiros socorros e RCP\n> * Saiba como desligar serviços públicos (e.g., gás, eletricidade)\n> \n> **3. Revisão e Atualização do Plano**\n> \n> * Revise o plano pelo menos uma vez por ano ou após mudanças significativas\n> * Faça atualizações para refletir riscos recém-identificados ou mudanças na família ou residência\n> * Comunique o plano e as responsabilidades a todos os membros da família"
          },
          "metadata": {}
        }
      ]
    }
  ]
}